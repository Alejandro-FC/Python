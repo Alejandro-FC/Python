{
 "cells": [
  {
   "cell_type": "code",
   "execution_count": 2,
   "id": "d8176825",
   "metadata": {},
   "outputs": [],
   "source": [
    "#Listas\n",
    "ejemplo_lista= ['Alejandro', 15.49, True]"
   ]
  },
  {
   "cell_type": "code",
   "execution_count": 7,
   "id": "d1a983d0",
   "metadata": {},
   "outputs": [
    {
     "data": {
      "text/plain": [
       "['Alejandro', 15.49]"
      ]
     },
     "execution_count": 7,
     "metadata": {},
     "output_type": "execute_result"
    }
   ],
   "source": [
    "ejemplo_lista[0:2]"
   ]
  },
  {
   "cell_type": "code",
   "execution_count": 8,
   "id": "417c16b1",
   "metadata": {},
   "outputs": [],
   "source": [
    "ejemplo_lista.append('Hola')"
   ]
  },
  {
   "cell_type": "code",
   "execution_count": 9,
   "id": "ec0d04cf",
   "metadata": {},
   "outputs": [
    {
     "data": {
      "text/plain": [
       "['Alejandro', 15.49, True, 'Hola']"
      ]
     },
     "execution_count": 9,
     "metadata": {},
     "output_type": "execute_result"
    }
   ],
   "source": [
    "ejemplo_lista"
   ]
  },
  {
   "cell_type": "code",
   "execution_count": 10,
   "id": "03e666e5",
   "metadata": {},
   "outputs": [],
   "source": [
    "ejemplo_lista.remove('Hola')"
   ]
  },
  {
   "cell_type": "code",
   "execution_count": 11,
   "id": "2d713aaf",
   "metadata": {},
   "outputs": [
    {
     "data": {
      "text/plain": [
       "['Alejandro', 15.49, True]"
      ]
     },
     "execution_count": 11,
     "metadata": {},
     "output_type": "execute_result"
    }
   ],
   "source": [
    "ejemplo_lista"
   ]
  },
  {
   "cell_type": "code",
   "execution_count": 14,
   "id": "007938c8",
   "metadata": {},
   "outputs": [
    {
     "data": {
      "text/plain": [
       "[['Facebook', 2449, True, 2006],\n",
       " ['Twitter', 339, False, 2006],\n",
       " ['Instagram', 1000, True, 2010],\n",
       " ['Youtube', 2000, False, 2005],\n",
       " ['Linkedin', 663, False, 2003],\n",
       " ['WhatsApp', 1600, True, 2009]]"
      ]
     },
     "execution_count": 14,
     "metadata": {},
     "output_type": "execute_result"
    }
   ],
   "source": [
    "#Crear dataframe de una lista:\n",
    "fbk = ['Facebook', 2449, True, 2006]\n",
    "twt = ['Twitter', 339, False, 2006]\n",
    "ig=['Instagram', 1000, True, 2010]\n",
    "yt = ['Youtube', 2000, False, 2005]\n",
    "lkn = ['Linkedin', 663, False, 2003]\n",
    "wsp = ['WhatsApp', 1600, True, 2009]\n",
    "\n",
    "lista_rrss = [fbk, twt, ig, yt, lkn, wsp]\n",
    "lista_rrss\n"
   ]
  },
  {
   "cell_type": "code",
   "execution_count": 15,
   "id": "4cfa3f5a",
   "metadata": {},
   "outputs": [
    {
     "data": {
      "text/html": [
       "<div>\n",
       "<style scoped>\n",
       "    .dataframe tbody tr th:only-of-type {\n",
       "        vertical-align: middle;\n",
       "    }\n",
       "\n",
       "    .dataframe tbody tr th {\n",
       "        vertical-align: top;\n",
       "    }\n",
       "\n",
       "    .dataframe thead th {\n",
       "        text-align: right;\n",
       "    }\n",
       "</style>\n",
       "<table border=\"1\" class=\"dataframe\">\n",
       "  <thead>\n",
       "    <tr style=\"text-align: right;\">\n",
       "      <th></th>\n",
       "      <th>Nombre</th>\n",
       "      <th>Cantidad</th>\n",
       "      <th>es_FBK</th>\n",
       "      <th>Año</th>\n",
       "    </tr>\n",
       "  </thead>\n",
       "  <tbody>\n",
       "    <tr>\n",
       "      <th>0</th>\n",
       "      <td>Facebook</td>\n",
       "      <td>2449</td>\n",
       "      <td>True</td>\n",
       "      <td>2006</td>\n",
       "    </tr>\n",
       "    <tr>\n",
       "      <th>1</th>\n",
       "      <td>Twitter</td>\n",
       "      <td>339</td>\n",
       "      <td>False</td>\n",
       "      <td>2006</td>\n",
       "    </tr>\n",
       "    <tr>\n",
       "      <th>2</th>\n",
       "      <td>Instagram</td>\n",
       "      <td>1000</td>\n",
       "      <td>True</td>\n",
       "      <td>2010</td>\n",
       "    </tr>\n",
       "    <tr>\n",
       "      <th>3</th>\n",
       "      <td>Youtube</td>\n",
       "      <td>2000</td>\n",
       "      <td>False</td>\n",
       "      <td>2005</td>\n",
       "    </tr>\n",
       "    <tr>\n",
       "      <th>4</th>\n",
       "      <td>Linkedin</td>\n",
       "      <td>663</td>\n",
       "      <td>False</td>\n",
       "      <td>2003</td>\n",
       "    </tr>\n",
       "    <tr>\n",
       "      <th>5</th>\n",
       "      <td>WhatsApp</td>\n",
       "      <td>1600</td>\n",
       "      <td>True</td>\n",
       "      <td>2009</td>\n",
       "    </tr>\n",
       "  </tbody>\n",
       "</table>\n",
       "</div>"
      ],
      "text/plain": [
       "      Nombre  Cantidad  es_FBK   Año\n",
       "0   Facebook      2449    True  2006\n",
       "1    Twitter       339   False  2006\n",
       "2  Instagram      1000    True  2010\n",
       "3    Youtube      2000   False  2005\n",
       "4   Linkedin       663   False  2003\n",
       "5   WhatsApp      1600    True  2009"
      ]
     },
     "execution_count": 15,
     "metadata": {},
     "output_type": "execute_result"
    }
   ],
   "source": [
    "import pandas as pd\n",
    "\n",
    "pd.DataFrame(lista_rrss, columns = ['Nombre', 'Cantidad', 'es_FBK', 'Año'])"
   ]
  },
  {
   "cell_type": "code",
   "execution_count": 17,
   "id": "b713fd23",
   "metadata": {},
   "outputs": [],
   "source": [
    "#Usar paquetes data science en python:\n",
    "import numpy as np\n",
    "\n",
    "A=np.arange(9)"
   ]
  },
  {
   "cell_type": "code",
   "execution_count": 19,
   "id": "7f6588a2",
   "metadata": {},
   "outputs": [],
   "source": [
    "#Calculando promedio con una función:\n",
    "media = np.mean(A) #usando una función\n",
    "media_2 = A.mean() #usando un método\n"
   ]
  },
  {
   "cell_type": "code",
   "execution_count": 20,
   "id": "b5d40a7d",
   "metadata": {},
   "outputs": [
    {
     "name": "stdout",
     "output_type": "stream",
     "text": [
      "4.0 4.0\n"
     ]
    }
   ],
   "source": [
    "print(media, media_2)"
   ]
  },
  {
   "cell_type": "code",
   "execution_count": 23,
   "id": "052fae60",
   "metadata": {},
   "outputs": [
    {
     "data": {
      "text/plain": [
       "array([[0, 1, 2],\n",
       "       [3, 4, 5],\n",
       "       [6, 7, 8]])"
      ]
     },
     "execution_count": 23,
     "metadata": {},
     "output_type": "execute_result"
    }
   ],
   "source": [
    "B = np.reshape(A, (3,3))\n",
    "B"
   ]
  },
  {
   "cell_type": "markdown",
   "id": "99e65234",
   "metadata": {},
   "source": [
    "#####\n",
    "## Algunos paquetes para ciencia de datos:\n",
    "### Procesamiento de datos:\n",
    "#### Numpy, SciPy, Pandas, PySpark\n",
    "### Visualización de datos:\n",
    "#### Matplotlib, Seaborn, Bokeh, Plotty\n",
    "### Modelos ML o AI:\n",
    "#### Keras, Sklearn, PyTouch, TensorFlow\n",
    "### Minería de datos:\n",
    "#### Scrappy, Beautifulsoup, Flask, Selenium\n",
    "\n",
    "\n"
   ]
  },
  {
   "cell_type": "code",
   "execution_count": 24,
   "id": "ad58ca96",
   "metadata": {},
   "outputs": [],
   "source": [
    "#Manipular np arrays:\n",
    "\n",
    "#Crear lista con números primos:\n",
    "\n",
    "numeros_primos = [2,3,5,7,11,13,17,19,23,29]"
   ]
  },
  {
   "cell_type": "code",
   "execution_count": 26,
   "id": "cb7188f5",
   "metadata": {},
   "outputs": [
    {
     "data": {
      "text/plain": [
       "array([ 2,  3,  5,  7, 11, 13, 17, 19, 23, 29])"
      ]
     },
     "execution_count": 26,
     "metadata": {},
     "output_type": "execute_result"
    }
   ],
   "source": [
    "#Crear array a partir de una lista:\n",
    "array_primos=np.array(numeros_primos)\n",
    "array_primos"
   ]
  },
  {
   "cell_type": "code",
   "execution_count": 27,
   "id": "7914a8fc",
   "metadata": {},
   "outputs": [
    {
     "data": {
      "text/plain": [
       "array([0., 0., 0., 0., 0., 0., 0., 0., 0., 0.])"
      ]
     },
     "execution_count": 27,
     "metadata": {},
     "output_type": "execute_result"
    }
   ],
   "source": [
    "#Crear array con zeros o como inicializar un arreglo de numpy:\n",
    "array_zeros = np.zeros(10)\n",
    "array_zeros"
   ]
  },
  {
   "cell_type": "code",
   "execution_count": 29,
   "id": "0e3d7be8",
   "metadata": {},
   "outputs": [
    {
     "data": {
      "text/plain": [
       "array([ 0,  2,  4,  6,  8, 10, 12, 14, 16, 18])"
      ]
     },
     "execution_count": 29,
     "metadata": {},
     "output_type": "execute_result"
    }
   ],
   "source": [
    "#Crear array con números\n",
    "array_numeros = np.arange(0,20,2)\n",
    "array_numeros"
   ]
  },
  {
   "cell_type": "code",
   "execution_count": 30,
   "id": "be22dcfb",
   "metadata": {},
   "outputs": [
    {
     "data": {
      "text/plain": [
       "array([[ 0,  2,  4,  6,  8],\n",
       "       [10, 12, 14, 16, 18]])"
      ]
     },
     "execution_count": 30,
     "metadata": {},
     "output_type": "execute_result"
    }
   ],
   "source": [
    "#Haciendo un reshape para dos dimensiones\n",
    "array_numeros.reshape(2,5)"
   ]
  },
  {
   "cell_type": "code",
   "execution_count": 32,
   "id": "b3edebe4",
   "metadata": {},
   "outputs": [
    {
     "data": {
      "text/plain": [
       "array([ 1,  3,  5,  7,  9, 11, 13, 15, 17, 19])"
      ]
     },
     "execution_count": 32,
     "metadata": {},
     "output_type": "execute_result"
    }
   ],
   "source": [
    "#Operaciones aritméticas sobre np-array 1-dimension y 2-dimension\n",
    "array_impares = array_numeros +1\n",
    "array_impares"
   ]
  },
  {
   "cell_type": "code",
   "execution_count": 33,
   "id": "d89dffcd",
   "metadata": {},
   "outputs": [
    {
     "data": {
      "text/plain": [
       "129"
      ]
     },
     "execution_count": 33,
     "metadata": {},
     "output_type": "execute_result"
    }
   ],
   "source": [
    "#Métodos asociados a estadística:\n",
    "#suma:\n",
    "array_primos.sum()"
   ]
  },
  {
   "cell_type": "code",
   "execution_count": 34,
   "id": "affef5d4",
   "metadata": {},
   "outputs": [
    {
     "data": {
      "text/plain": [
       "12.9"
      ]
     },
     "execution_count": 34,
     "metadata": {},
     "output_type": "execute_result"
    }
   ],
   "source": [
    "#promedio\n",
    "array_primos.mean()"
   ]
  },
  {
   "cell_type": "code",
   "execution_count": 35,
   "id": "2f876de8",
   "metadata": {},
   "outputs": [
    {
     "data": {
      "text/plain": [
       "73.28999999999999"
      ]
     },
     "execution_count": 35,
     "metadata": {},
     "output_type": "execute_result"
    }
   ],
   "source": [
    "#varianza\n",
    "array_primos.var()\n"
   ]
  },
  {
   "cell_type": "code",
   "execution_count": 41,
   "id": "00cd9592",
   "metadata": {},
   "outputs": [
    {
     "data": {
      "text/plain": [
       "array([ 55,   0, 144,   1,  21,  89,   5,   8,  13,   1,  34,   3,   2])"
      ]
     },
     "execution_count": 41,
     "metadata": {},
     "output_type": "execute_result"
    }
   ],
   "source": [
    "#Ordenar un np-array:\n",
    "array_fibo = np.array([55,0,144,1,21,89,5,8,13,1,34,3,2])\n",
    "array_fibo"
   ]
  },
  {
   "cell_type": "code",
   "execution_count": 43,
   "id": "f46e7c8f",
   "metadata": {},
   "outputs": [
    {
     "data": {
      "text/plain": [
       "array([  0,   1,   1,   2,   3,   5,   8,  13,  21,  34,  55,  89, 144])"
      ]
     },
     "execution_count": 43,
     "metadata": {},
     "output_type": "execute_result"
    }
   ],
   "source": [
    "#Orden ascendente:\n",
    "np.sort(array_fibo)"
   ]
  },
  {
   "cell_type": "code",
   "execution_count": 44,
   "id": "36b6d381",
   "metadata": {},
   "outputs": [
    {
     "data": {
      "text/plain": [
       "array([144,  89,  55,  34,  21,  13,   8,   5,   3,   2,   1,   1,   0])"
      ]
     },
     "execution_count": 44,
     "metadata": {},
     "output_type": "execute_result"
    }
   ],
   "source": [
    "#Orden descendente:\n",
    "-np.sort(-array_fibo)"
   ]
  },
  {
   "cell_type": "code",
   "execution_count": 45,
   "id": "5e2ce64a",
   "metadata": {},
   "outputs": [],
   "source": [
    "#Seleccionar elementos de un array:"
   ]
  },
  {
   "cell_type": "code",
   "execution_count": 47,
   "id": "6ce11e9b",
   "metadata": {},
   "outputs": [
    {
     "data": {
      "text/plain": [
       "array([[ 0,  2,  4,  6,  8],\n",
       "       [10, 12, 14, 16, 18]])"
      ]
     },
     "execution_count": 47,
     "metadata": {},
     "output_type": "execute_result"
    }
   ],
   "source": [
    "C = np.arange(0,20,2).reshape(2,5)\n",
    "C"
   ]
  },
  {
   "cell_type": "code",
   "execution_count": 48,
   "id": "dd1a247d",
   "metadata": {},
   "outputs": [
    {
     "data": {
      "text/plain": [
       "0"
      ]
     },
     "execution_count": 48,
     "metadata": {},
     "output_type": "execute_result"
    }
   ],
   "source": [
    "#Seleccionar primer elemento\n",
    "C[0,0]"
   ]
  },
  {
   "cell_type": "code",
   "execution_count": 49,
   "id": "02bd3445",
   "metadata": {},
   "outputs": [
    {
     "data": {
      "text/plain": [
       "18"
      ]
     },
     "execution_count": 49,
     "metadata": {},
     "output_type": "execute_result"
    }
   ],
   "source": [
    "#Otro elemento\n",
    "C[1,4]"
   ]
  },
  {
   "cell_type": "code",
   "execution_count": 50,
   "id": "254cf68e",
   "metadata": {},
   "outputs": [
    {
     "data": {
      "text/plain": [
       "array([10, 12, 14, 16, 18])"
      ]
     },
     "execution_count": 50,
     "metadata": {},
     "output_type": "execute_result"
    }
   ],
   "source": [
    "#Varios elementos:\n",
    "C[1,:]"
   ]
  },
  {
   "cell_type": "code",
   "execution_count": 52,
   "id": "1354e8e4",
   "metadata": {},
   "outputs": [
    {
     "data": {
      "text/plain": [
       "array([ 2, 12])"
      ]
     },
     "execution_count": 52,
     "metadata": {},
     "output_type": "execute_result"
    }
   ],
   "source": [
    "#columna\n",
    "C[:, 1]"
   ]
  },
  {
   "cell_type": "code",
   "execution_count": 54,
   "id": "fb25809f",
   "metadata": {},
   "outputs": [
    {
     "data": {
      "text/plain": [
       "array([False,  True, False,  True, False, False,  True,  True,  True,\n",
       "        True, False,  True,  True])"
      ]
     },
     "execution_count": 54,
     "metadata": {},
     "output_type": "execute_result"
    }
   ],
   "source": [
    "#Para fibo, menores de 20:\n",
    "array_fibo<20"
   ]
  },
  {
   "cell_type": "code",
   "execution_count": 56,
   "id": "15564563",
   "metadata": {},
   "outputs": [
    {
     "data": {
      "text/plain": [
       "array([ 0,  1,  5,  8, 13,  1,  3,  2])"
      ]
     },
     "execution_count": 56,
     "metadata": {},
     "output_type": "execute_result"
    }
   ],
   "source": [
    "#Filtrar menores de 20:\n",
    "array_fibo[array_fibo<20]"
   ]
  },
  {
   "cell_type": "code",
   "execution_count": 57,
   "id": "bf9e4738",
   "metadata": {},
   "outputs": [],
   "source": [
    "#Pandas y DATA FRAMES"
   ]
  },
  {
   "cell_type": "code",
   "execution_count": 58,
   "id": "c77d3dea",
   "metadata": {},
   "outputs": [
    {
     "data": {
      "text/plain": [
       "[['Facebook', 2449, True, 2006],\n",
       " ['Twitter', 339, False, 2006],\n",
       " ['Instagram', 1000, True, 2010],\n",
       " ['Youtube', 2000, False, 2005],\n",
       " ['Linkedin', 663, False, 2003],\n",
       " ['WhatsApp', 1600, True, 2009]]"
      ]
     },
     "execution_count": 58,
     "metadata": {},
     "output_type": "execute_result"
    }
   ],
   "source": [
    "#Crear dataframe de una lista:\n",
    "fbk = ['Facebook', 2449, True, 2006]\n",
    "twt = ['Twitter', 339, False, 2006]\n",
    "ig=['Instagram', 1000, True, 2010]\n",
    "yt = ['Youtube', 2000, False, 2005]\n",
    "lkn = ['Linkedin', 663, False, 2003]\n",
    "wsp = ['WhatsApp', 1600, True, 2009]\n",
    "\n",
    "lista_rrss = [fbk, twt, ig, yt, lkn, wsp]\n",
    "lista_rrss"
   ]
  },
  {
   "cell_type": "code",
   "execution_count": 61,
   "id": "3675b5c3",
   "metadata": {},
   "outputs": [
    {
     "data": {
      "text/html": [
       "<div>\n",
       "<style scoped>\n",
       "    .dataframe tbody tr th:only-of-type {\n",
       "        vertical-align: middle;\n",
       "    }\n",
       "\n",
       "    .dataframe tbody tr th {\n",
       "        vertical-align: top;\n",
       "    }\n",
       "\n",
       "    .dataframe thead th {\n",
       "        text-align: right;\n",
       "    }\n",
       "</style>\n",
       "<table border=\"1\" class=\"dataframe\">\n",
       "  <thead>\n",
       "    <tr style=\"text-align: right;\">\n",
       "      <th></th>\n",
       "      <th>Nombre</th>\n",
       "      <th>Cantidad</th>\n",
       "      <th>is_FBK</th>\n",
       "      <th>Año</th>\n",
       "    </tr>\n",
       "  </thead>\n",
       "  <tbody>\n",
       "    <tr>\n",
       "      <th>0</th>\n",
       "      <td>Facebook</td>\n",
       "      <td>2449</td>\n",
       "      <td>True</td>\n",
       "      <td>2006</td>\n",
       "    </tr>\n",
       "    <tr>\n",
       "      <th>1</th>\n",
       "      <td>Twitter</td>\n",
       "      <td>339</td>\n",
       "      <td>False</td>\n",
       "      <td>2006</td>\n",
       "    </tr>\n",
       "    <tr>\n",
       "      <th>2</th>\n",
       "      <td>Instagram</td>\n",
       "      <td>1000</td>\n",
       "      <td>True</td>\n",
       "      <td>2010</td>\n",
       "    </tr>\n",
       "    <tr>\n",
       "      <th>3</th>\n",
       "      <td>Youtube</td>\n",
       "      <td>2000</td>\n",
       "      <td>False</td>\n",
       "      <td>2005</td>\n",
       "    </tr>\n",
       "    <tr>\n",
       "      <th>4</th>\n",
       "      <td>Linkedin</td>\n",
       "      <td>663</td>\n",
       "      <td>False</td>\n",
       "      <td>2003</td>\n",
       "    </tr>\n",
       "    <tr>\n",
       "      <th>5</th>\n",
       "      <td>WhatsApp</td>\n",
       "      <td>1600</td>\n",
       "      <td>True</td>\n",
       "      <td>2009</td>\n",
       "    </tr>\n",
       "  </tbody>\n",
       "</table>\n",
       "</div>"
      ],
      "text/plain": [
       "      Nombre  Cantidad  is_FBK   Año\n",
       "0   Facebook      2449    True  2006\n",
       "1    Twitter       339   False  2006\n",
       "2  Instagram      1000    True  2010\n",
       "3    Youtube      2000   False  2005\n",
       "4   Linkedin       663   False  2003\n",
       "5   WhatsApp      1600    True  2009"
      ]
     },
     "execution_count": 61,
     "metadata": {},
     "output_type": "execute_result"
    }
   ],
   "source": [
    "df_rrss = pd.DataFrame(lista_rrss, columns=['Nombre', 'Cantidad', 'is_FBK', 'Año'])\n",
    "df_rrss"
   ]
  },
  {
   "cell_type": "code",
   "execution_count": 68,
   "id": "0fbaf4d8",
   "metadata": {},
   "outputs": [
    {
     "data": {
      "text/html": [
       "<div>\n",
       "<style scoped>\n",
       "    .dataframe tbody tr th:only-of-type {\n",
       "        vertical-align: middle;\n",
       "    }\n",
       "\n",
       "    .dataframe tbody tr th {\n",
       "        vertical-align: top;\n",
       "    }\n",
       "\n",
       "    .dataframe thead th {\n",
       "        text-align: right;\n",
       "    }\n",
       "</style>\n",
       "<table border=\"1\" class=\"dataframe\">\n",
       "  <thead>\n",
       "    <tr style=\"text-align: right;\">\n",
       "      <th></th>\n",
       "      <th>Nombre</th>\n",
       "      <th>Cantidad</th>\n",
       "      <th>is_FBK</th>\n",
       "      <th>Año</th>\n",
       "    </tr>\n",
       "  </thead>\n",
       "  <tbody>\n",
       "  </tbody>\n",
       "</table>\n",
       "</div>"
      ],
      "text/plain": [
       "Empty DataFrame\n",
       "Columns: [Nombre, Cantidad, is_FBK, Año]\n",
       "Index: []"
      ]
     },
     "execution_count": 68,
     "metadata": {},
     "output_type": "execute_result"
    }
   ],
   "source": [
    "#DataFrame vacío:\n",
    "df_vacio = pd.DataFrame(columns=['Nombre', 'Cantidad', 'is_FBK', 'Año'])\n",
    "df_vacio"
   ]
  },
  {
   "cell_type": "code",
   "execution_count": 71,
   "id": "5a96eb2d",
   "metadata": {},
   "outputs": [
    {
     "name": "stderr",
     "output_type": "stream",
     "text": [
      "/tmp/ipykernel_11200/3850801550.py:2: FutureWarning: The frame.append method is deprecated and will be removed from pandas in a future version. Use pandas.concat instead.\n",
      "  df_vacio = df_vacio.append({'Nombre': 'Facebook', 'Cantidad': 2449, 'is_FBK': True, 'Año': 2006}, ignore_index=True)\n"
     ]
    },
    {
     "data": {
      "text/html": [
       "<div>\n",
       "<style scoped>\n",
       "    .dataframe tbody tr th:only-of-type {\n",
       "        vertical-align: middle;\n",
       "    }\n",
       "\n",
       "    .dataframe tbody tr th {\n",
       "        vertical-align: top;\n",
       "    }\n",
       "\n",
       "    .dataframe thead th {\n",
       "        text-align: right;\n",
       "    }\n",
       "</style>\n",
       "<table border=\"1\" class=\"dataframe\">\n",
       "  <thead>\n",
       "    <tr style=\"text-align: right;\">\n",
       "      <th></th>\n",
       "      <th>Nombre</th>\n",
       "      <th>Cantidad</th>\n",
       "      <th>is_FBK</th>\n",
       "      <th>Año</th>\n",
       "    </tr>\n",
       "  </thead>\n",
       "  <tbody>\n",
       "    <tr>\n",
       "      <th>0</th>\n",
       "      <td>Facebook</td>\n",
       "      <td>2449</td>\n",
       "      <td>True</td>\n",
       "      <td>2006</td>\n",
       "    </tr>\n",
       "    <tr>\n",
       "      <th>1</th>\n",
       "      <td>Facebook</td>\n",
       "      <td>2449</td>\n",
       "      <td>True</td>\n",
       "      <td>2006</td>\n",
       "    </tr>\n",
       "  </tbody>\n",
       "</table>\n",
       "</div>"
      ],
      "text/plain": [
       "     Nombre Cantidad is_FBK   Año\n",
       "0  Facebook     2449   True  2006\n",
       "1  Facebook     2449   True  2006"
      ]
     },
     "execution_count": 71,
     "metadata": {},
     "output_type": "execute_result"
    }
   ],
   "source": [
    "#Añadiendo datos:\n",
    "df_vacio = df_vacio.append({'Nombre': 'Facebook', 'Cantidad': 2449, 'is_FBK': True, 'Año': 2006}, ignore_index=True)\n",
    "df_vacio"
   ]
  },
  {
   "cell_type": "markdown",
   "id": "844aeea9",
   "metadata": {},
   "source": [
    "### "
   ]
  }
 ],
 "metadata": {
  "kernelspec": {
   "display_name": "Python 3",
   "language": "python",
   "name": "python3"
  },
  "language_info": {
   "codemirror_mode": {
    "name": "ipython",
    "version": 3
   },
   "file_extension": ".py",
   "mimetype": "text/x-python",
   "name": "python",
   "nbconvert_exporter": "python",
   "pygments_lexer": "ipython3",
   "version": "3.9.12"
  }
 },
 "nbformat": 4,
 "nbformat_minor": 5
}
