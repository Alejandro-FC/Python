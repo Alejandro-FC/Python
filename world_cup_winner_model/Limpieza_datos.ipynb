{
 "cells": [
  {
   "cell_type": "code",
   "execution_count": 1,
   "id": "e8883fad",
   "metadata": {},
   "outputs": [],
   "source": [
    "import pandas as pd"
   ]
  },
  {
   "cell_type": "markdown",
   "id": "de2e0e75",
   "metadata": {},
   "source": [
    "# 1.-Limpiando data"
   ]
  },
  {
   "cell_type": "code",
   "execution_count": 64,
   "id": "d648f942",
   "metadata": {},
   "outputs": [],
   "source": [
    "df_data_historica = pd.read_csv('fifa_worldcup_hitorical_data.csv')\n",
    "df_fixture = pd.read_csv('fifa_worldcup_fixture.csv')\n",
    "df_data_faltante = pd.read_csv('fifa_worldcup_data.csv')"
   ]
  },
  {
   "cell_type": "markdown",
   "id": "8700ab68",
   "metadata": {},
   "source": [
    "## 1.1.-Limpiando df_fixture"
   ]
  },
  {
   "cell_type": "code",
   "execution_count": 65,
   "id": "ebebf30f",
   "metadata": {},
   "outputs": [],
   "source": [
    "df_fixture['home'] = df_fixture['home'].str.strip() #Elimina los espacios en blanco de los nombres a los lados\n",
    "df_fixture['away'] = df_fixture['away'].str.strip()"
   ]
  },
  {
   "cell_type": "markdown",
   "id": "6f7b2375",
   "metadata": {},
   "source": [
    "## 1.2.-Limpiando df_data_faltante y agregándolo a fd_historical_data"
   ]
  },
  {
   "cell_type": "code",
   "execution_count": 66,
   "id": "6334108d",
   "metadata": {},
   "outputs": [],
   "source": [
    "#df_data_faltante[df_data_faltante['home'].isnull()]\n",
    "df_data_faltante.dropna(inplace=True) #Eliminando data faltante"
   ]
  },
  {
   "cell_type": "code",
   "execution_count": 67,
   "id": "8954f5b7",
   "metadata": {},
   "outputs": [
    {
     "data": {
      "text/html": [
       "<div>\n",
       "<style scoped>\n",
       "    .dataframe tbody tr th:only-of-type {\n",
       "        vertical-align: middle;\n",
       "    }\n",
       "\n",
       "    .dataframe tbody tr th {\n",
       "        vertical-align: top;\n",
       "    }\n",
       "\n",
       "    .dataframe thead th {\n",
       "        text-align: right;\n",
       "    }\n",
       "</style>\n",
       "<table border=\"1\" class=\"dataframe\">\n",
       "  <thead>\n",
       "    <tr style=\"text-align: right;\">\n",
       "      <th></th>\n",
       "      <th>home</th>\n",
       "      <th>score</th>\n",
       "      <th>away</th>\n",
       "      <th>year</th>\n",
       "    </tr>\n",
       "  </thead>\n",
       "  <tbody>\n",
       "    <tr>\n",
       "      <th>0</th>\n",
       "      <td>France</td>\n",
       "      <td>4–1</td>\n",
       "      <td>Mexico</td>\n",
       "      <td>1930</td>\n",
       "    </tr>\n",
       "    <tr>\n",
       "      <th>1</th>\n",
       "      <td>Argentina</td>\n",
       "      <td>1–0</td>\n",
       "      <td>France</td>\n",
       "      <td>1930</td>\n",
       "    </tr>\n",
       "    <tr>\n",
       "      <th>2</th>\n",
       "      <td>Chile</td>\n",
       "      <td>3–0</td>\n",
       "      <td>Mexico</td>\n",
       "      <td>1930</td>\n",
       "    </tr>\n",
       "    <tr>\n",
       "      <th>3</th>\n",
       "      <td>Chile</td>\n",
       "      <td>1–0</td>\n",
       "      <td>France</td>\n",
       "      <td>1930</td>\n",
       "    </tr>\n",
       "    <tr>\n",
       "      <th>4</th>\n",
       "      <td>Argentina</td>\n",
       "      <td>6–3</td>\n",
       "      <td>Mexico</td>\n",
       "      <td>1930</td>\n",
       "    </tr>\n",
       "    <tr>\n",
       "      <th>...</th>\n",
       "      <td>...</td>\n",
       "      <td>...</td>\n",
       "      <td>...</td>\n",
       "      <td>...</td>\n",
       "    </tr>\n",
       "    <tr>\n",
       "      <th>896</th>\n",
       "      <td>Russia</td>\n",
       "      <td>2–2 (a.e.t.)</td>\n",
       "      <td>Croatia</td>\n",
       "      <td>2018</td>\n",
       "    </tr>\n",
       "    <tr>\n",
       "      <th>897</th>\n",
       "      <td>France</td>\n",
       "      <td>1–0</td>\n",
       "      <td>Belgium</td>\n",
       "      <td>2018</td>\n",
       "    </tr>\n",
       "    <tr>\n",
       "      <th>898</th>\n",
       "      <td>Croatia</td>\n",
       "      <td>2–1 (a.e.t.)</td>\n",
       "      <td>England</td>\n",
       "      <td>2018</td>\n",
       "    </tr>\n",
       "    <tr>\n",
       "      <th>899</th>\n",
       "      <td>Belgium</td>\n",
       "      <td>2–0</td>\n",
       "      <td>England</td>\n",
       "      <td>2018</td>\n",
       "    </tr>\n",
       "    <tr>\n",
       "      <th>900</th>\n",
       "      <td>France</td>\n",
       "      <td>4–2</td>\n",
       "      <td>Croatia</td>\n",
       "      <td>2018</td>\n",
       "    </tr>\n",
       "  </tbody>\n",
       "</table>\n",
       "<p>901 rows × 4 columns</p>\n",
       "</div>"
      ],
      "text/plain": [
       "           home         score      away  year\n",
       "0       France            4–1    Mexico  1930\n",
       "1    Argentina            1–0    France  1930\n",
       "2        Chile            3–0    Mexico  1930\n",
       "3        Chile            1–0    France  1930\n",
       "4    Argentina            6–3    Mexico  1930\n",
       "..          ...           ...       ...   ...\n",
       "896     Russia   2–2 (a.e.t.)   Croatia  2018\n",
       "897     France            1–0   Belgium  2018\n",
       "898    Croatia   2–1 (a.e.t.)   England  2018\n",
       "899    Belgium            2–0   England  2018\n",
       "900     France            4–2   Croatia  2018\n",
       "\n",
       "[901 rows x 4 columns]"
      ]
     },
     "execution_count": 67,
     "metadata": {},
     "output_type": "execute_result"
    }
   ],
   "source": [
    "#Combinando data historíca con data faltante\n",
    "\n",
    "df_datos_final = pd.concat([df_data_faltante, df_data_historica], ignore_index=True) #Puede que haya duplicados\n",
    "\n",
    "#Eliminando duplicados:\n",
    "df_datos_final.drop_duplicates(inplace=True)\n",
    "df_datos_final.sort_values('year', inplace = True) #Ordenando según el año\n",
    "\n",
    "#Usaremos aun así, data histórica.\n",
    "df_data_historica"
   ]
  },
  {
   "cell_type": "markdown",
   "id": "071e7113",
   "metadata": {},
   "source": [
    "## 1.3.-Limpiando df_data_histórica"
   ]
  },
  {
   "cell_type": "code",
   "execution_count": 68,
   "id": "9c7d5c1a",
   "metadata": {},
   "outputs": [],
   "source": [
    "#ELiminando un partido sin resultado:\n",
    "\n",
    "index_eliminar = df_data_historica[df_data_historica['home'].str.contains('Sweden')  & \n",
    "                 df_data_historica['away'].str.contains('Austria')].index\n",
    "\n",
    "df_data_historica.drop(index_eliminar, inplace=True) #Eliminamos la fila que no nos interesa\n",
    "\n"
   ]
  },
  {
   "cell_type": "code",
   "execution_count": 70,
   "id": "678dd717",
   "metadata": {},
   "outputs": [],
   "source": [
    "#df_data_historica[df_data_historica['score'].str.contains('[^\\d–]')]\n",
    "df_data_historica['score'] = df_data_historica['score'].str.replace('[^\\d–]','', regex = True)\n",
    "\n"
   ]
  },
  {
   "cell_type": "code",
   "execution_count": 71,
   "id": "c777337d",
   "metadata": {},
   "outputs": [],
   "source": [
    "#Limpiando data historica\n",
    "df_data_historica['home'] = df_data_historica['home'].str.strip() #Elimina los espacios en blanco de los nombres a los lados\n",
    "df_data_historica['away'] = df_data_historica['away'].str.strip()"
   ]
  },
  {
   "cell_type": "code",
   "execution_count": 76,
   "id": "b6864c27",
   "metadata": {},
   "outputs": [],
   "source": [
    "#Separando score en dos cadenas\n",
    "df_data_historica[['HomeGoals', 'AwayGoals']] =  df_data_historica['score'].str.split('–', expand = True) #Crea dos nuevas columnas para el df\n"
   ]
  },
  {
   "cell_type": "code",
   "execution_count": 78,
   "id": "098d5fd4",
   "metadata": {},
   "outputs": [],
   "source": [
    "#Eliminamos la columna score:\n",
    "df_data_historica.drop('score', axis=1, inplace=True) #El 1 Indica que es una columna"
   ]
  },
  {
   "cell_type": "code",
   "execution_count": 82,
   "id": "85f6c6b7",
   "metadata": {},
   "outputs": [],
   "source": [
    "#Renombramos las columnas:\n",
    "df_data_historica.rename(columns={'home':'HomeTeam', 'away':'AwayTeam', 'year':'Year'}, inplace = True)"
   ]
  },
  {
   "cell_type": "code",
   "execution_count": 87,
   "id": "99b27435",
   "metadata": {},
   "outputs": [],
   "source": [
    "#Vemos los tipos de datos:\n",
    "df_data_historica.dtypes\n",
    "#Cambiamos el tipo de dato para HomeGoals y AwayGoals:\n",
    "df_data_historica = df_data_historica.astype({'HomeGoals': int, 'AwayGoals': int, 'Year': int})"
   ]
  },
  {
   "cell_type": "code",
   "execution_count": 91,
   "id": "b084e150",
   "metadata": {},
   "outputs": [],
   "source": [
    "#Crear nueva columna: numero total de goles en el partido:\n",
    "df_data_historica['TotalGoals'] = df_data_historica['HomeGoals'] + df_data_historica['AwayGoals']"
   ]
  },
  {
   "cell_type": "markdown",
   "id": "608d1b67",
   "metadata": {},
   "source": [
    "# 2.- Exportar dataframe limpio"
   ]
  },
  {
   "cell_type": "code",
   "execution_count": 95,
   "id": "72d4a250",
   "metadata": {},
   "outputs": [],
   "source": [
    "df_data_historica.to_csv('clean_fifa_worldcup_matches.csv', index=False)\n",
    "df_fixture.to_csv('clean_fifa_worldcup_fixture.csv', index=False)"
   ]
  },
  {
   "cell_type": "code",
   "execution_count": 96,
   "id": "3e089a1d",
   "metadata": {},
   "outputs": [
    {
     "name": "stdout",
     "output_type": "stream",
     "text": [
      "1930 18\n",
      "1934 17\n",
      "1938 18\n",
      "1950 22\n",
      "1954 26\n",
      "1958 35\n",
      "1962 32\n",
      "1966 32\n",
      "1970 32\n",
      "1974 38\n",
      "1978 38\n",
      "1982 52\n",
      "1986 52\n",
      "1990 52\n",
      "1994 52\n",
      "1998 64\n",
      "2002 64\n",
      "2006 64\n",
      "2010 64\n",
      "2014 64\n",
      "2018 64\n"
     ]
    }
   ],
   "source": [
    "#Comprobar si se ha eliminado más data de la cuenta: \n",
    "\n",
    "years = [1930, 1934, 1938, 1950, 1954, 1958, 1962, 1966, 1970, 1974, 1978, 1982, 1986, 1990, 1994, 1998, 2002, 2006, 2010, 2014, 2018]\n",
    "\n",
    "for year in years:\n",
    "    print(year, len(df_data_historica[df_data_historica['Year']==year]))"
   ]
  },
  {
   "cell_type": "code",
   "execution_count": null,
   "id": "70e3d50c",
   "metadata": {},
   "outputs": [],
   "source": []
  }
 ],
 "metadata": {
  "kernelspec": {
   "display_name": "Python 3",
   "language": "python",
   "name": "python3"
  },
  "language_info": {
   "codemirror_mode": {
    "name": "ipython",
    "version": 3
   },
   "file_extension": ".py",
   "mimetype": "text/x-python",
   "name": "python",
   "nbconvert_exporter": "python",
   "pygments_lexer": "ipython3",
   "version": "3.9.12"
  }
 },
 "nbformat": 4,
 "nbformat_minor": 5
}
