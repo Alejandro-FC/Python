{
 "cells": [
  {
   "cell_type": "code",
   "execution_count": 71,
   "id": "b2292c1d",
   "metadata": {},
   "outputs": [],
   "source": [
    "import pandas as pd\n",
    "from string import ascii_uppercase as alfabeto"
   ]
  },
  {
   "cell_type": "code",
   "execution_count": 68,
   "id": "40596a70",
   "metadata": {},
   "outputs": [],
   "source": [
    "todas_tablas = pd.read_html('https://web.archive.org/web/20221115040351/https://en.wikipedia.org/wiki/2022_FIFA_World_Cup')"
   ]
  },
  {
   "cell_type": "code",
   "execution_count": null,
   "id": "3e6ee2d7",
   "metadata": {},
   "outputs": [],
   "source": []
  },
  {
   "cell_type": "code",
   "execution_count": 69,
   "id": "4888fbf1",
   "metadata": {},
   "outputs": [
    {
     "name": "stdout",
     "output_type": "stream",
     "text": [
      "   Pos         Team  Pld  W  D  L  GF  GA  GD  Pts\n",
      "0    1    Qatar (H)    0  0  0  0   0   0   0    0\n",
      "1    2      Ecuador    0  0  0  0   0   0   0    0\n",
      "2    3      Senegal    0  0  0  0   0   0   0    0\n",
      "3    4  Netherlands    0  0  0  0   0   0   0    0\n",
      "   Pos           Team  Pld  W  D  L  GF  GA  GD  Pts\n",
      "0    1        England    0  0  0  0   0   0   0    0\n",
      "1    2           Iran    0  0  0  0   0   0   0    0\n",
      "2    3  United States    0  0  0  0   0   0   0    0\n",
      "3    4          Wales    0  0  0  0   0   0   0    0\n",
      "   Pos          Team  Pld  W  D  L  GF  GA  GD  Pts\n",
      "0    1     Argentina    0  0  0  0   0   0   0    0\n",
      "1    2  Saudi Arabia    0  0  0  0   0   0   0    0\n",
      "2    3        Mexico    0  0  0  0   0   0   0    0\n",
      "3    4        Poland    0  0  0  0   0   0   0    0\n",
      "   Pos       Team  Pld  W  D  L  GF  GA  GD  Pts\n",
      "0    1     France    0  0  0  0   0   0   0    0\n",
      "1    2  Australia    0  0  0  0   0   0   0    0\n",
      "2    3    Denmark    0  0  0  0   0   0   0    0\n",
      "3    4    Tunisia    0  0  0  0   0   0   0    0\n",
      "   Pos        Team  Pld  W  D  L  GF  GA  GD  Pts\n",
      "0    1       Spain    0  0  0  0   0   0   0    0\n",
      "1    2  Costa Rica    0  0  0  0   0   0   0    0\n",
      "2    3     Germany    0  0  0  0   0   0   0    0\n",
      "3    4       Japan    0  0  0  0   0   0   0    0\n",
      "   Pos     Team  Pld  W  D  L  GF  GA  GD  Pts\n",
      "0    1  Belgium    0  0  0  0   0   0   0    0\n",
      "1    2   Canada    0  0  0  0   0   0   0    0\n",
      "2    3  Morocco    0  0  0  0   0   0   0    0\n",
      "3    4  Croatia    0  0  0  0   0   0   0    0\n",
      "   Pos         Team  Pld  W  D  L  GF  GA  GD  Pts\n",
      "0    1       Brazil    0  0  0  0   0   0   0    0\n",
      "1    2       Serbia    0  0  0  0   0   0   0    0\n",
      "2    3  Switzerland    0  0  0  0   0   0   0    0\n",
      "3    4     Cameroon    0  0  0  0   0   0   0    0\n",
      "   Pos         Team  Pld  W  D  L  GF  GA  GD  Pts\n",
      "0    1     Portugal    0  0  0  0   0   0   0    0\n",
      "1    2        Ghana    0  0  0  0   0   0   0    0\n",
      "2    3      Uruguay    0  0  0  0   0   0   0    0\n",
      "3    4  South Korea    0  0  0  0   0   0   0    0\n"
     ]
    }
   ],
   "source": [
    "for i in range(12,62, 7):\n",
    "    df = todas_tablas[i]\n",
    "    df.rename(columns={df.columns[1] : 'Team'}, inplace = True)\n",
    "    df.pop('Qualification')\n",
    "    print(df)"
   ]
  },
  {
   "cell_type": "code",
   "execution_count": 72,
   "id": "5d55c450",
   "metadata": {},
   "outputs": [
    {
     "data": {
      "text/plain": [
       "'ABCDEFGHIJKLMNOPQRSTUVWXYZ'"
      ]
     },
     "execution_count": 72,
     "metadata": {},
     "output_type": "execute_result"
    }
   ],
   "source": []
  },
  {
   "cell_type": "code",
   "execution_count": null,
   "id": "1f82a24c",
   "metadata": {},
   "outputs": [],
   "source": []
  },
  {
   "cell_type": "code",
   "execution_count": null,
   "id": "4208af11",
   "metadata": {},
   "outputs": [],
   "source": []
  }
 ],
 "metadata": {
  "kernelspec": {
   "display_name": "Python 3",
   "language": "python",
   "name": "python3"
  },
  "language_info": {
   "codemirror_mode": {
    "name": "ipython",
    "version": 3
   },
   "file_extension": ".py",
   "mimetype": "text/x-python",
   "name": "python",
   "nbconvert_exporter": "python",
   "pygments_lexer": "ipython3",
   "version": "3.9.12"
  }
 },
 "nbformat": 4,
 "nbformat_minor": 5
}
