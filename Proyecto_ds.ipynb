{
 "cells": [
  {
   "cell_type": "code",
   "execution_count": 14,
   "id": "b2292c1d",
   "metadata": {},
   "outputs": [],
   "source": [
    "import pandas as pd\n",
    "from string import ascii_uppercase as alfabeto\n",
    "import pickle"
   ]
  },
  {
   "cell_type": "code",
   "execution_count": null,
   "id": "f3ee0f0c",
   "metadata": {},
   "outputs": [],
   "source": [
    "#Extracción de datos y creación de data frame y diccionario para los datos que vamos a usa"
   ]
  },
  {
   "cell_type": "code",
   "execution_count": 15,
   "id": "40596a70",
   "metadata": {},
   "outputs": [],
   "source": [
    "#Descarga de datos (grupos y equipos de cada grupo antes de empezar el torneo): \n",
    "\n",
    "todas_tablas = pd.read_html('https://web.archive.org/web/20221115040351/https://en.wikipedia.org/wiki/2022_FIFA_World_Cup')"
   ]
  },
  {
   "cell_type": "code",
   "execution_count": 16,
   "id": "4888fbf1",
   "metadata": {},
   "outputs": [],
   "source": [
    "#Creando df y diccionario:\n",
    "\n",
    "dict_tablas = {}\n",
    "\n",
    "for letra, i in zip(alfabeto, range(12,62, 7)):\n",
    "    df = todas_tablas[i]\n",
    "    df.rename(columns={df.columns[1] : 'Team'}, inplace = True)\n",
    "    df.pop('Qualification')\n",
    "    dict_tablas[f'Grupo {letra}']= df\n"
   ]
  },
  {
   "cell_type": "code",
   "execution_count": 17,
   "id": "5d55c450",
   "metadata": {},
   "outputs": [
    {
     "data": {
      "text/html": [
       "<div>\n",
       "<style scoped>\n",
       "    .dataframe tbody tr th:only-of-type {\n",
       "        vertical-align: middle;\n",
       "    }\n",
       "\n",
       "    .dataframe tbody tr th {\n",
       "        vertical-align: top;\n",
       "    }\n",
       "\n",
       "    .dataframe thead th {\n",
       "        text-align: right;\n",
       "    }\n",
       "</style>\n",
       "<table border=\"1\" class=\"dataframe\">\n",
       "  <thead>\n",
       "    <tr style=\"text-align: right;\">\n",
       "      <th></th>\n",
       "      <th>Pos</th>\n",
       "      <th>Team</th>\n",
       "      <th>Pld</th>\n",
       "      <th>W</th>\n",
       "      <th>D</th>\n",
       "      <th>L</th>\n",
       "      <th>GF</th>\n",
       "      <th>GA</th>\n",
       "      <th>GD</th>\n",
       "      <th>Pts</th>\n",
       "    </tr>\n",
       "  </thead>\n",
       "  <tbody>\n",
       "    <tr>\n",
       "      <th>0</th>\n",
       "      <td>1</td>\n",
       "      <td>Qatar (H)</td>\n",
       "      <td>0</td>\n",
       "      <td>0</td>\n",
       "      <td>0</td>\n",
       "      <td>0</td>\n",
       "      <td>0</td>\n",
       "      <td>0</td>\n",
       "      <td>0</td>\n",
       "      <td>0</td>\n",
       "    </tr>\n",
       "    <tr>\n",
       "      <th>1</th>\n",
       "      <td>2</td>\n",
       "      <td>Ecuador</td>\n",
       "      <td>0</td>\n",
       "      <td>0</td>\n",
       "      <td>0</td>\n",
       "      <td>0</td>\n",
       "      <td>0</td>\n",
       "      <td>0</td>\n",
       "      <td>0</td>\n",
       "      <td>0</td>\n",
       "    </tr>\n",
       "    <tr>\n",
       "      <th>2</th>\n",
       "      <td>3</td>\n",
       "      <td>Senegal</td>\n",
       "      <td>0</td>\n",
       "      <td>0</td>\n",
       "      <td>0</td>\n",
       "      <td>0</td>\n",
       "      <td>0</td>\n",
       "      <td>0</td>\n",
       "      <td>0</td>\n",
       "      <td>0</td>\n",
       "    </tr>\n",
       "    <tr>\n",
       "      <th>3</th>\n",
       "      <td>4</td>\n",
       "      <td>Netherlands</td>\n",
       "      <td>0</td>\n",
       "      <td>0</td>\n",
       "      <td>0</td>\n",
       "      <td>0</td>\n",
       "      <td>0</td>\n",
       "      <td>0</td>\n",
       "      <td>0</td>\n",
       "      <td>0</td>\n",
       "    </tr>\n",
       "  </tbody>\n",
       "</table>\n",
       "</div>"
      ],
      "text/plain": [
       "   Pos         Team  Pld  W  D  L  GF  GA  GD  Pts\n",
       "0    1    Qatar (H)    0  0  0  0   0   0   0    0\n",
       "1    2      Ecuador    0  0  0  0   0   0   0    0\n",
       "2    3      Senegal    0  0  0  0   0   0   0    0\n",
       "3    4  Netherlands    0  0  0  0   0   0   0    0"
      ]
     },
     "execution_count": 17,
     "metadata": {},
     "output_type": "execute_result"
    }
   ],
   "source": [
    "#Ejemplo para ver si el diccionario funciona correctamente: \n",
    "\n",
    "dict_tablas['Grupo A']"
   ]
  },
  {
   "cell_type": "code",
   "execution_count": 18,
   "id": "1f82a24c",
   "metadata": {},
   "outputs": [],
   "source": [
    "#Exportando diccionario para poder utilizarlo en otros proyectos, se crea el archivo 'dict_table' con toda la info:\n",
    "\n",
    "with open('dict_table', 'wb') as output:\n",
    "    pickle.dump(dict_tablas, output)"
   ]
  },
  {
   "cell_type": "code",
   "execution_count": null,
   "id": "4208af11",
   "metadata": {},
   "outputs": [],
   "source": []
  },
  {
   "cell_type": "code",
   "execution_count": 20,
   "id": "32b02c75",
   "metadata": {},
   "outputs": [
    {
     "name": "stdout",
     "output_type": "stream",
     "text": [
      "        home         score           away  year\n",
      "0    Russia            5–0   Saudi Arabia  2018\n",
      "1     Egypt            0–1        Uruguay  2018\n",
      "2    Russia            3–1          Egypt  2018\n",
      "3   Uruguay            1–0   Saudi Arabia  2018\n",
      "4   Uruguay            3–0         Russia  2018\n",
      "..       ...           ...            ...   ...\n",
      "59   Russia   2–2 (a.e.t.)        Croatia  2018\n",
      "60   France            1–0        Belgium  2018\n",
      "61  Croatia   2–1 (a.e.t.)        England  2018\n",
      "62  Belgium            2–0        England  2018\n",
      "63   France            4–2        Croatia  2018\n",
      "\n",
      "[64 rows x 4 columns]\n"
     ]
    }
   ],
   "source": []
  },
  {
   "cell_type": "code",
   "execution_count": null,
   "id": "d77b3289",
   "metadata": {},
   "outputs": [],
   "source": []
  }
 ],
 "metadata": {
  "kernelspec": {
   "display_name": "Python 3",
   "language": "python",
   "name": "python3"
  },
  "language_info": {
   "codemirror_mode": {
    "name": "ipython",
    "version": 3
   },
   "file_extension": ".py",
   "mimetype": "text/x-python",
   "name": "python",
   "nbconvert_exporter": "python",
   "pygments_lexer": "ipython3",
   "version": "3.9.12"
  }
 },
 "nbformat": 4,
 "nbformat_minor": 5
}
